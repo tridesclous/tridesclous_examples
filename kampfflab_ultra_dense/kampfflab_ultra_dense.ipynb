{
 "cells": [
  {
   "cell_type": "markdown",
   "metadata": {},
   "source": [
    "# Kampff lab - Ultra dense survey\n",
    "\n",
    "\n",
    "Here a description of the dataset:\n",
    "http://www.kampff-lab.org/ultra-dense-survey/\n",
    "\n",
    "Here the official publication of this open dataset:\n",
    "https://crcns.org/data-sets/methods/hdr-1/about-hdr-1\n",
    "\n",
    "And a paper is being preparing here:\n",
    "https://doi.org/10.1101/275818\n",
    "\n",
    "\n",
    "## Introduction\n",
    "\n",
    "This dataset explore optimal size and density of electrodes.\n",
    "\n",
    "Here 255 extracellular electrodes (5 x 5 μm and spacing of 1 μm) \n",
    "\n",
    "## Download\n",
    "\n",
    "Dataset must downloaded locally and manually from crcns or from the google drive in **\"workdir\"** path.\n"
   ]
  },
  {
   "cell_type": "markdown",
   "metadata": {},
   "source": [
    "## The PRB file\n",
    "tridesclous need a PRB file that describe the geometry of probe.\n",
    "\n",
    "Create it by copy/paste or download it via github."
   ]
  },
  {
   "cell_type": "code",
   "execution_count": 4,
   "metadata": {},
   "outputs": [],
   "source": [
    "# suposing the datset is downloaded here\n",
    "workdir = '/media/samuel/dataspikesorting/DataSpikeSortingHD2/kampff/ultra dense/'\n",
    "filename = workdir + 'T2/amplifier2017-02-08T21_38_55.bin'\n"
   ]
  },
  {
   "cell_type": "code",
   "execution_count": 2,
   "metadata": {},
   "outputs": [],
   "source": [
    "%matplotlib inline\n",
    "\n",
    "import numpy as np\n",
    "import matplotlib.pyplot as plt\n",
    "plt.rcParams['figure.figsize'] = (20.0, 10.0)\n",
    "import tridesclous as tdc\n",
    "from tridesclous import DataIO, CatalogueConstructor, Peeler\n",
    "import os, shutil"
   ]
  },
  {
   "cell_type": "markdown",
   "metadata": {},
   "source": [
    "## create a DataIO (and remove if already exists)"
   ]
  },
  {
   "cell_type": "code",
   "execution_count": 4,
   "metadata": {},
   "outputs": [
    {
     "name": "stdout",
     "output_type": "stream",
     "text": [
      "DataIO <id: 139865362390880> \n",
      "  workdir: /media/samuel/dataspikesorting/DataSpikeSortingHD2/kampff/ultra dense/tdc_amplifier2017-02-02T17_18_46\n",
      "  sample_rate: 20000.0\n",
      "  total_channel: 256\n",
      "  channel_groups: 0 [ch0 ch1 ch2 ch3 ... ch252 ch253 ch254 ch255]\n",
      "  nb_segment: 1\n",
      "  length: 32840000\n",
      "  durations: 1642.0 s.\n"
     ]
    }
   ],
   "source": [
    "dirname = workdir + 'tdc_amplifier2017-02-02T17_18_46'\n",
    "\n",
    "if os.path.exists(dirname):\n",
    "    #remove is already exists\n",
    "    shutil.rmtree(dirname)\n",
    "    \n",
    "dataio = DataIO(dirname=dirname)\n",
    "\n",
    "# feed DataIO with one file\n",
    "dataio.set_data_source(type='RawData', filenames=[filename], \n",
    "                    sample_rate=20000., dtype='int16', total_channel=256,\n",
    "                    bit_to_microVolt=0.195)\n",
    "print(dataio)\n",
    "\n",
    "# set the probe file\n",
    "dataio.set_probe_file('kampff_ultra_dense_256.prb')"
   ]
  },
  {
   "cell_type": "markdown",
   "metadata": {},
   "source": [
    "# CatalogueConstructor\n",
    "\n",
    "Run all chain in one shot."
   ]
  },
  {
   "cell_type": "code",
   "execution_count": 1,
   "metadata": {},
   "outputs": [
    {
     "ename": "NameError",
     "evalue": "name 'CatalogueConstructor' is not defined",
     "output_type": "error",
     "traceback": [
      "\u001b[0;31m---------------------------------------------------------------------------\u001b[0m",
      "\u001b[0;31mNameError\u001b[0m                                 Traceback (most recent call last)",
      "\u001b[0;32m<ipython-input-1-725131b71056>\u001b[0m in \u001b[0;36m<module>\u001b[0;34m\u001b[0m\n\u001b[0;32m----> 1\u001b[0;31m \u001b[0mcc\u001b[0m \u001b[0;34m=\u001b[0m \u001b[0mCatalogueConstructor\u001b[0m\u001b[0;34m(\u001b[0m\u001b[0mdataio\u001b[0m\u001b[0;34m=\u001b[0m\u001b[0mdataio\u001b[0m\u001b[0;34m,\u001b[0m \u001b[0mchan_grp\u001b[0m\u001b[0;34m=\u001b[0m\u001b[0;36m0\u001b[0m\u001b[0;34m)\u001b[0m\u001b[0;34m\u001b[0m\u001b[0m\n\u001b[0m\u001b[1;32m      2\u001b[0m \u001b[0;34m\u001b[0m\u001b[0m\n\u001b[1;32m      3\u001b[0m fullchain_kargs = {\n\u001b[1;32m      4\u001b[0m     \u001b[0;34m'duration'\u001b[0m \u001b[0;34m:\u001b[0m \u001b[0;36m10\u001b[0m\u001b[0;34m,\u001b[0m\u001b[0;34m\u001b[0m\u001b[0m\n\u001b[1;32m      5\u001b[0m     'preprocessor' : {\n",
      "\u001b[0;31mNameError\u001b[0m: name 'CatalogueConstructor' is not defined"
     ]
    }
   ],
   "source": [
    "cc = CatalogueConstructor(dataio=dataio, chan_grp=0)\n",
    "\n",
    "fullchain_kargs = {\n",
    "    'duration' : 10,\n",
    "    'preprocessor' : {\n",
    "        'highpass_freq' : 400.,\n",
    "        'lowpass_freq' : 5000.,\n",
    "        'smooth_size' : 0,\n",
    "        'chunksize' : 1024,\n",
    "        'lostfront_chunksize' : 128,\n",
    "        'signalpreprocessor_engine' : 'numpy',\n",
    "    },\n",
    "    'peak_detector' : {\n",
    "        'peakdetector_engine' : 'numpy',\n",
    "        'peak_sign' : '-',\n",
    "        'relative_threshold' : 5.,\n",
    "        'peak_span' : 0.0002,\n",
    "    },\n",
    "    'noise_snippet' : {\n",
    "        'nb_snippet' : 300,\n",
    "    },\n",
    "    'extract_waveforms' : {\n",
    "        'n_left' : -20,\n",
    "        'n_right' : 30,\n",
    "        'mode' : 'rand',\n",
    "        'nb_max' : 20000,\n",
    "        'align_waveform' : False,\n",
    "    },\n",
    "    'clean_waveforms' : {\n",
    "        'alien_value_threshold' : 100.,\n",
    "    },\n",
    "  }\n",
    "feat_method = 'peak_max'\n",
    "feat_kargs = {}\n",
    "clust_method = 'sawchaincut'\n",
    "clust_kargs = {}\n",
    "      \n",
    "tdc.apply_all_catalogue_steps(cc, fullchain_kargs, \n",
    "        feat_method, feat_kargs,clust_method, clust_kargs)\n"
   ]
  },
  {
   "cell_type": "code",
   "execution_count": null,
   "metadata": {},
   "outputs": [],
   "source": []
  }
 ],
 "metadata": {
  "kernelspec": {
   "display_name": "Python 3",
   "language": "python",
   "name": "python3"
  },
  "language_info": {
   "codemirror_mode": {
    "name": "ipython",
    "version": 3
   },
   "file_extension": ".py",
   "mimetype": "text/x-python",
   "name": "python",
   "nbconvert_exporter": "python",
   "pygments_lexer": "ipython3",
   "version": "3.6.6"
  }
 },
 "nbformat": 4,
 "nbformat_minor": 2
}
